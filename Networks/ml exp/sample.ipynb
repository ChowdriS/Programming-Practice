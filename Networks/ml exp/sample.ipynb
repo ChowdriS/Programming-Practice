{
 "cells": [
  {
   "cell_type": "code",
   "execution_count": 14,
   "metadata": {},
   "outputs": [],
   "source": [
    "#Importing important libraries\n",
    "import pandas as pd\n",
    "from pandas import DataFrame"
   ]
  },
  {
   "cell_type": "code",
   "execution_count": 15,
   "metadata": {},
   "outputs": [
    {
     "name": "stdout",
     "output_type": "stream",
     "text": [
      "     Outlook Temperature Humidity   Windy   pt\n",
      "0      sunny         hot     high    weak   no\n",
      "1      sunny         hot     high  strong   no\n",
      "2   overcast         hot     high    weak  yes\n",
      "3      rainy        mild     high    weak  yes\n",
      "4      rainy        cool   normal    weak  yes\n",
      "5      rainy        cool   normal  strong   no\n",
      "6   overcast        cool   normal  strong  yes\n",
      "7      sunny        mild     high    weak   no\n",
      "8      sunny        cool   normal    weak  yes\n",
      "9      rainy        mild   normal    weak  yes\n",
      "10     sunny        mild   normal  strong  yes\n",
      "11  overcast        mild     high  strong  yes\n",
      "12  overcast         hot   normal    weak  yes\n",
      "13     rainy        mild     high  strong   no\n"
     ]
    }
   ],
   "source": [
    "df_tennis = pd.read_csv('Book1.csv')\n",
    "print( df_tennis)"
   ]
  },
  {
   "cell_type": "code",
   "execution_count": 16,
   "metadata": {},
   "outputs": [
    {
     "name": "stdout",
     "output_type": "stream",
     "text": [
      "\n",
      " Total Entropy of PlayTennis Data Set: 0.9402859586706309\n"
     ]
    }
   ],
   "source": [
    "def entropy(probs):\n",
    "    import math\n",
    "    return sum([-prob*math.log(prob, 2) for prob in probs])\n",
    "def entropy_of_list(a_list):\n",
    "    from collections import Counter\n",
    "    cnt = Counter(x for x in a_list) #Count the positive and negative ex\n",
    "    num_instances = len(a_list)\n",
    "    probs = [x / num_instances for x in cnt.values()]\n",
    "    return entropy(probs)\n",
    "total_entropy = entropy_of_list(df_tennis['pt'])\n",
    "print(\"\\n Total Entropy of PlayTennis Data Set:\",total_entropy)\n"
   ]
  },
  {
   "cell_type": "code",
   "execution_count": 20,
   "metadata": {},
   "outputs": [
    {
     "name": "stdout",
     "output_type": "stream",
     "text": [
      "Information Gain Calculation of  Outlook\n",
      "target_attribute_name pt\n",
      "Name:  overcast\n",
      "Group:       Outlook Temperature Humidity   Windy   pt\n",
      "2   overcast         hot     high    weak  yes\n",
      "6   overcast        cool   normal  strong  yes\n",
      "11  overcast        mild     high  strong  yes\n",
      "12  overcast         hot   normal    weak  yes\n",
      "Name:  rainy\n",
      "Group:     Outlook Temperature Humidity   Windy   pt\n",
      "3    rainy        mild     high    weak  yes\n",
      "4    rainy        cool   normal    weak  yes\n",
      "5    rainy        cool   normal  strong   no\n",
      "9    rainy        mild   normal    weak  yes\n",
      "13   rainy        mild     high  strong   no\n",
      "Name:  sunny\n",
      "Group:     Outlook Temperature Humidity   Windy   pt\n",
      "0    sunny         hot     high    weak   no\n",
      "1    sunny         hot     high  strong   no\n",
      "7    sunny        mild     high    weak   no\n",
      "8    sunny        cool   normal    weak  yes\n",
      "10   sunny        mild   normal  strong  yes\n",
      "NOBS 14.0\n",
      "df_agg_ent           entropy_of_list  <lambda_0>\n",
      "Outlook                              \n",
      "overcast         0.000000    0.285714\n",
      "rainy            0.970951    0.357143\n",
      "sunny            0.970951    0.357143\n",
      "Info-gain for Outlook is :0.2467498197744391 \n",
      "\n"
     ]
    }
   ],
   "source": [
    "def information_gain(df, split_attribute_name, target_attribute_name, trace=0):\n",
    "    print(\"Information Gain Calculation of \",split_attribute_name)\n",
    "    print(\"target_attribute_name\",target_attribute_name)\n",
    "    df_split = df.groupby(split_attribute_name)\n",
    "    for name,group in df_split:\n",
    "        print(\"Name: \",name)\n",
    "        print(\"Group: \",group)\n",
    "    nobs = len(df.index) * 1.0\n",
    "    print(\"NOBS\",nobs)\n",
    "    df_agg_ent = df_split.agg({target_attribute_name : [entropy_of_list, lambda x: len(x)/nobs] })[target_attribute_name]\n",
    "    print(\"df_agg_ent\",df_agg_ent)\n",
    "    # Calculate Information Gain\n",
    "    df_agg_ent.columns=['Entropy','Prob1']\n",
    "    avg_info = sum( df_agg_ent['Entropy'] * df_agg_ent['Prob1'] )\n",
    "    old_entropy = entropy_of_list(df[target_attribute_name])\n",
    "    return old_entropy - avg_info\n",
    "print('Info-gain for Outlook is :'+str(information_gain(df_tennis, 'Outlook','pt')),\"\\n\")\n"
   ]
  },
  {
   "cell_type": "code",
   "execution_count": null,
   "metadata": {},
   "outputs": [],
   "source": []
  }
 ],
 "metadata": {
  "kernelspec": {
   "display_name": "Python 3",
   "language": "python",
   "name": "python3"
  },
  "language_info": {
   "codemirror_mode": {
    "name": "ipython",
    "version": 3
   },
   "file_extension": ".py",
   "mimetype": "text/x-python",
   "name": "python",
   "nbconvert_exporter": "python",
   "pygments_lexer": "ipython3",
   "version": "3.10.5"
  },
  "orig_nbformat": 4
 },
 "nbformat": 4,
 "nbformat_minor": 2
}
